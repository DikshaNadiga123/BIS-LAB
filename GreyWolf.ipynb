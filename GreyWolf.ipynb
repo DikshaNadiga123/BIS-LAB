{
  "nbformat": 4,
  "nbformat_minor": 0,
  "metadata": {
    "colab": {
      "provenance": [],
      "authorship_tag": "ABX9TyP4pa7+hnLgZTZjlrX+EyZl",
      "include_colab_link": true
    },
    "kernelspec": {
      "name": "python3",
      "display_name": "Python 3"
    },
    "language_info": {
      "name": "python"
    }
  },
  "cells": [
    {
      "cell_type": "markdown",
      "metadata": {
        "id": "view-in-github",
        "colab_type": "text"
      },
      "source": [
        "<a href=\"https://colab.research.google.com/github/DikshaNadiga123/BIS-LAB/blob/main/GreyWolf.ipynb\" target=\"_parent\"><img src=\"https://colab.research.google.com/assets/colab-badge.svg\" alt=\"Open In Colab\"/></a>"
      ]
    },
    {
      "cell_type": "code",
      "execution_count": 1,
      "metadata": {
        "colab": {
          "base_uri": "https://localhost:8080/"
        },
        "id": "vP9KNaVBO8Hg",
        "outputId": "2a92d9bf-397a-4a8b-d3c7-7288ce869a49"
      },
      "outputs": [
        {
          "output_type": "stream",
          "name": "stdout",
          "text": [
            "Grey Wolf Optimizer\n",
            "Enter the number of dimensions (e.g., 2, 3): 3\n",
            "Enter the number of wolves (e.g., 5, 10): 5\n",
            "Enter the number of iterations (e.g., 50): 10\n",
            "Enter the lower and upper bounds of the search space (e.g., -10 10): -20 20\n",
            "\n",
            "Optimization: Grey Wolf Optimizer completed!\n",
            "\n",
            "Best Position Found: [ 2.11955893 -2.24696848  0.77096777]\n",
            "Best Score (Minimum Value of Function): 8.380479252059745\n"
          ]
        }
      ],
      "source": [
        "import numpy as np\n",
        "\n",
        "# Sphere function: minimize f(x) = sum(x_i^2)\n",
        "def sphere_function(position):\n",
        "    return sum(x**2 for x in position)\n",
        "\n",
        "# Grey Wolf Optimizer\n",
        "def grey_wolf_optimizer(dim, wolves_count, iterations, lb, ub):\n",
        "    \"\"\"\n",
        "    GWO implementation to minimize a function.\n",
        "    dim: Number of dimensions.\n",
        "    wolves_count: Number of wolves.\n",
        "    iterations: Number of iterations.\n",
        "    lb: Lower bound of search space.\n",
        "    ub: Upper bound of search space.\n",
        "    \"\"\"\n",
        "    # Initialize the positions of wolves randomly\n",
        "    wolves_positions = np.random.uniform(lb, ub, (wolves_count, dim))\n",
        "\n",
        "    # Initialize alpha, beta, and delta (best, second-best, and third-best wolves)\n",
        "    alpha, beta, delta = np.zeros(dim), np.zeros(dim), np.zeros(dim)\n",
        "    alpha_score, beta_score, delta_score = float(\"inf\"), float(\"inf\"), float(\"inf\")\n",
        "\n",
        "    # Iterate through generations\n",
        "    for t in range(iterations):\n",
        "        for i in range(wolves_count):\n",
        "            fitness = sphere_function(wolves_positions[i])\n",
        "\n",
        "            # Update alpha, beta, and delta based on fitness\n",
        "            if fitness < alpha_score:\n",
        "                alpha_score, beta_score, delta_score = fitness, alpha_score, beta_score\n",
        "                alpha, beta, delta = wolves_positions[i], alpha, beta\n",
        "            elif fitness < beta_score:\n",
        "                beta_score, delta_score = fitness, beta_score\n",
        "                beta, delta = wolves_positions[i], beta\n",
        "            elif fitness < delta_score:\n",
        "                delta_score = fitness\n",
        "                delta = wolves_positions[i]\n",
        "\n",
        "        # Update positions of wolves\n",
        "        for i in range(wolves_count):\n",
        "            for j in range(dim):\n",
        "                r1, r2 = np.random.rand(), np.random.rand()\n",
        "                A1, C1 = 2 * r1 - 1, 2 * r2\n",
        "                D_alpha = abs(C1 * alpha[j] - wolves_positions[i][j])\n",
        "                X1 = alpha[j] - A1 * D_alpha\n",
        "\n",
        "                r1, r2 = np.random.rand(), np.random.rand()\n",
        "                A2, C2 = 2 * r1 - 1, 2 * r2\n",
        "                D_beta = abs(C2 * beta[j] - wolves_positions[i][j])\n",
        "                X2 = beta[j] - A2 * D_beta\n",
        "\n",
        "                r1, r2 = np.random.rand(), np.random.rand()\n",
        "                A3, C3 = 2 * r1 - 1, 2 * r2\n",
        "                D_delta = abs(C3 * delta[j] - wolves_positions[i][j])\n",
        "                X3 = delta[j] - A3 * D_delta\n",
        "\n",
        "                # Update the wolf's position\n",
        "                wolves_positions[i][j] = (X1 + X2 + X3) / 3\n",
        "\n",
        "                # Boundary control\n",
        "                wolves_positions[i][j] = np.clip(wolves_positions[i][j], lb, ub)\n",
        "\n",
        "    print(\"\\nOptimization: Grey Wolf Optimizer completed!\")\n",
        "    return alpha, alpha_score\n",
        "\n",
        "# Main function\n",
        "def main():\n",
        "    print(\"Grey Wolf Optimizer\")\n",
        "    dim = int(input(\"Enter the number of dimensions (e.g., 2, 3): \"))\n",
        "    wolves_count = int(input(\"Enter the number of wolves (e.g., 5, 10): \"))\n",
        "    iterations = int(input(\"Enter the number of iterations (e.g., 50): \"))\n",
        "    lb, ub = map(float, input(\"Enter the lower and upper bounds of the search space (e.g., -10 10): \").split())\n",
        "\n",
        "    # Run GWO\n",
        "    best_position, best_score = grey_wolf_optimizer(dim, wolves_count, iterations, lb, ub)\n",
        "    print(\"\\nBest Position Found:\", best_position)\n",
        "    print(\"Best Score (Minimum Value of Function):\", best_score)\n",
        "\n",
        "if __name__ == \"__main__\":\n",
        "    main()\n"
      ]
    }
  ]
}