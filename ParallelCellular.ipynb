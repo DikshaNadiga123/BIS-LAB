{
  "nbformat": 4,
  "nbformat_minor": 0,
  "metadata": {
    "colab": {
      "provenance": [],
      "authorship_tag": "ABX9TyNQPXvyMMA2iz0rCArgRczJ",
      "include_colab_link": true
    },
    "kernelspec": {
      "name": "python3",
      "display_name": "Python 3"
    },
    "language_info": {
      "name": "python"
    }
  },
  "cells": [
    {
      "cell_type": "markdown",
      "metadata": {
        "id": "view-in-github",
        "colab_type": "text"
      },
      "source": [
        "<a href=\"https://colab.research.google.com/github/DikshaNadiga123/BIS-LAB/blob/main/ParallelCellular.ipynb\" target=\"_parent\"><img src=\"https://colab.research.google.com/assets/colab-badge.svg\" alt=\"Open In Colab\"/></a>"
      ]
    },
    {
      "cell_type": "code",
      "execution_count": 3,
      "metadata": {
        "colab": {
          "base_uri": "https://localhost:8080/"
        },
        "id": "kv3Z7xPwPZJi",
        "outputId": "9ff17055-8efc-4665-805e-3fd6cbea65b5"
      },
      "outputs": [
        {
          "output_type": "stream",
          "name": "stdout",
          "text": [
            "Enter number of rows for the grid: 3\n",
            "Enter number of columns for the grid: 3\n",
            "Enter the number of iterations for noise reduction: 5\n",
            "\n",
            "Original Grid (Noisy Image):\n",
            "[[172  47 117]\n",
            " [192  67 251]\n",
            " [195 103   9]]\n",
            "\n",
            "Reduced Noise Grid (After Noise Reduction):\n",
            "[[172  47 117]\n",
            " [192 135 251]\n",
            " [195 103   9]]\n",
            "\n",
            "Output: Noise reduction completed successfully!\n"
          ]
        }
      ],
      "source": [
        "import numpy as np\n",
        "\n",
        "def noise_reduction(grid, iterations):\n",
        "    \"\"\"\n",
        "    Reduces noise in a grid using averaging with neighbors.\n",
        "\n",
        "    Parameters:\n",
        "    grid (numpy.ndarray): 2D array representing the noisy grid.\n",
        "    iterations (int): Number of iterations for noise reduction.\n",
        "\n",
        "    Returns:\n",
        "    numpy.ndarray: Grid after noise reduction.\n",
        "    \"\"\"\n",
        "    rows, cols = grid.shape\n",
        "\n",
        "    for _ in range(iterations):\n",
        "        # Create a copy of the grid to apply updates\n",
        "        new_grid = grid.copy()\n",
        "\n",
        "        for i in range(1, rows - 1):\n",
        "            for j in range(1, cols - 1):\n",
        "                # Update each cell by averaging its value with neighbors\n",
        "                neighbors = [\n",
        "                    grid[i - 1][j], grid[i + 1][j], grid[i][j - 1], grid[i][j + 1],\n",
        "                    grid[i - 1][j - 1], grid[i - 1][j + 1], grid[i + 1][j - 1], grid[i + 1][j + 1]\n",
        "                ]\n",
        "                new_grid[i][j] = int((grid[i][j] + sum(neighbors)) / (len(neighbors) + 1))\n",
        "\n",
        "        grid = new_grid  # Update the grid for the next iteration\n",
        "\n",
        "    return grid\n",
        "\n",
        "def main():\n",
        "    \"\"\"\n",
        "    Main function to demonstrate noise reduction on a grid.\n",
        "    \"\"\"\n",
        "    # Take user input for grid dimensions and noise level\n",
        "    rows = int(input(\"Enter number of rows for the grid: \"))\n",
        "    cols = int(input(\"Enter number of columns for the grid: \"))\n",
        "    iterations = int(input(\"Enter the number of iterations for noise reduction: \"))\n",
        "\n",
        "    # Generate a random noisy grid\n",
        "    np.random.seed(0)  # For reproducibility\n",
        "    grid = np.random.randint(0, 256, (rows, cols))\n",
        "\n",
        "    print(\"\\nOriginal Grid (Noisy Image):\")\n",
        "    print(grid)\n",
        "\n",
        "    # Perform noise reduction\n",
        "    reduced_grid = noise_reduction(grid, iterations)\n",
        "\n",
        "    print(\"\\nReduced Noise Grid (After Noise Reduction):\")\n",
        "    print(reduced_grid)\n",
        "    print(\"\\nOutput: Noise reduction completed successfully!\")\n",
        "\n",
        "if __name__ == \"__main__\":\n",
        "    main()\n"
      ]
    }
  ]
}